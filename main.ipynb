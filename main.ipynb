{
 "cells": [
  {
   "cell_type": "code",
   "execution_count": 5,
   "id": "3ff6272c",
   "metadata": {},
   "outputs": [],
   "source": [
    "import os\n",
    "import requests\n",
    "import json"
   ]
  },
  {
   "cell_type": "code",
   "execution_count": 4,
   "id": "70cf40fc",
   "metadata": {},
   "outputs": [],
   "source": [
    "channel_id = 'UCsqjHFMB_JYTaEnf_vmTNqg'\n",
    "api_key = os.environ['YOUTUBE_API_KEY']\n",
    "\n",
    "# print(api_key)"
   ]
  },
  {
   "cell_type": "markdown",
   "id": "72f8f2c5",
   "metadata": {},
   "source": [
    "## Extraction"
   ]
  },
  {
   "cell_type": "code",
   "execution_count": null,
   "id": "c5cc55e1",
   "metadata": {},
   "outputs": [],
   "source": [
    "def channel_stats(api_key, channel_id):\n",
    "    channel_stats_url = f\"https://youtube.googleapis.com/youtube/v3/channels?part=snippet%2Cstatistics&id={channel_id}&key={api_key}\"\n",
    "    # print(channel_stats_url)\n",
    "    response = requests.get(channel_stats_url)\n",
    "    channel_data = json.loads(response.text)\n",
    "    # print(channel_data)\n",
    "    return channel_data"
   ]
  },
  {
   "cell_type": "code",
   "execution_count": 3,
   "id": "9708f396",
   "metadata": {},
   "outputs": [],
   "source": [
    "def get_channel_videos(api_key, channel_id):\n",
    "    channel_videos_url = f\"https://youtube.googleapis.com/youtube/v3/search?channelId={channel_id}&maxResults=50&order=date&type=video&key={api_key}\"\n",
    "    print(channel_videos_url)\n",
    "\n",
    "get_channel_videos(api_key, channel_id)"
   ]
  }
 ],
 "metadata": {
  "kernelspec": {
   "display_name": "Python 3.9.13 64-bit",
   "language": "python",
   "name": "python3"
  },
  "language_info": {
   "codemirror_mode": {
    "name": "ipython",
    "version": 3
   },
   "file_extension": ".py",
   "mimetype": "text/x-python",
   "name": "python",
   "nbconvert_exporter": "python",
   "pygments_lexer": "ipython3",
   "version": "3.9.13"
  },
  "vscode": {
   "interpreter": {
    "hash": "f9f85f796d01129d0dd105a088854619f454435301f6ffec2fea96ecbd9be4ac"
   }
  }
 },
 "nbformat": 4,
 "nbformat_minor": 5
}
