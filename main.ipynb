{
 "cells": [
  {
   "cell_type": "code",
   "execution_count": 28,
   "id": "3ff6272c",
   "metadata": {},
   "outputs": [],
   "source": [
    "import os\n",
    "import requests\n",
    "import json\n",
    "import pandas as pd\n",
    "from sqlalchemy import create_engine\n",
    "import datetime as dt\n",
    "from datetime import date"
   ]
  },
  {
   "cell_type": "code",
   "execution_count": 29,
   "id": "70cf40fc",
   "metadata": {},
   "outputs": [],
   "source": [
    "channel_id = 'UCsqjHFMB_JYTaEnf_vmTNqg'\n",
    "api_key = os.environ['YOUTUBE_API_KEY']\n",
    "\n",
    "# print(api_key)"
   ]
  },
  {
   "cell_type": "markdown",
   "id": "72f8f2c5",
   "metadata": {},
   "source": [
    "# Extract"
   ]
  },
  {
   "cell_type": "markdown",
   "id": "57c40e63",
   "metadata": {},
   "source": [
    "##### Extract channel stats"
   ]
  },
  {
   "cell_type": "code",
   "execution_count": 30,
   "id": "c5cc55e1",
   "metadata": {},
   "outputs": [],
   "source": [
    "def channel_stats(api_key, channel_id):\n",
    "    channel_stats_url = f\"https://youtube.googleapis.com/youtube/v3/channels?part=snippet%2Cstatistics&id={channel_id}&key={api_key}\"\n",
    "    # print(channel_stats_url)\n",
    "    response = requests.get(channel_stats_url)\n",
    "    channel_data = json.loads(response.text)\n",
    "    # print(channel_data)\n",
    "    return channel_data"
   ]
  },
  {
   "cell_type": "markdown",
   "id": "58a1ac2a",
   "metadata": {},
   "source": [
    "##### Extract channel videos"
   ]
  },
  {
   "cell_type": "code",
   "execution_count": 31,
   "id": "9708f396",
   "metadata": {},
   "outputs": [],
   "source": [
    "def get_channel_videos(api_key,channel_id):\n",
    "    page_count = 0\n",
    "    url = f\"https://youtube.googleapis.com/youtube/v3/search?channelId={channel_id}&maxResults=50&order=date&type=video&key={api_key}\"\n",
    "    \n",
    "    \n",
    "    def get_total_results(api_key,channel_id):\n",
    "        response = requests.get(url)\n",
    "        data = json.loads(response.text)\n",
    "        totalResults = data['pageInfo']['totalResults']\n",
    "        \n",
    "        return totalResults\n",
    "    \n",
    "    \n",
    "\n",
    "    def get_channel_videos_per_page(url):\n",
    "        channel_videos = []\n",
    "    \n",
    "        response = requests.get(url)\n",
    "        data = json.loads(response.text)\n",
    "        nextPageToken = data.get('nextPageToken')\n",
    "        for i in range(len(data['items'])):\n",
    "            videoId = data['items'][i]['id']['videoId']\n",
    "            channel_videos.append(videoId)\n",
    "\n",
    "        return nextPageToken, channel_videos\n",
    "\n",
    "    nextPageToken, channel_videos = get_channel_videos_per_page(url)\n",
    "    totalResults = get_total_results(api_key, channel_id)\n",
    "    while nextPageToken and (page_count < (totalResults/50)):\n",
    "        next_page_url = f\"{url}&pageToken={nextPageToken}\"\n",
    "        nextPageToken, new_channel_videos = get_channel_videos_per_page(next_page_url)\n",
    "        channel_videos.extend(new_channel_videos)\n",
    "        page_count += 1\n",
    "\n",
    "    # print(channel_videos)\n",
    "    return channel_videos\n",
    "\n",
    "# get_channel_videos(api_key, channel_id)\n"
   ]
  },
  {
   "cell_type": "markdown",
   "id": "bddb73aa",
   "metadata": {},
   "source": [
    "##### Extract video stats"
   ]
  },
  {
   "cell_type": "code",
   "execution_count": 32,
   "id": "6d374997",
   "metadata": {
    "scrolled": true
   },
   "outputs": [],
   "source": [
    "\n",
    "def get_video_stats(api_key):\n",
    "    videos_stats = []\n",
    "    videoIds = get_channel_videos(api_key, channel_id)\n",
    "\n",
    "    for videoId in videoIds:\n",
    "        video_data= {}\n",
    "        video_stats_url = f\"https://youtube.googleapis.com/youtube/v3/videos?part=snippet%2Cstatistics&id={videoId}&key={api_key}\"\n",
    "        response = requests.get(video_stats_url)\n",
    "        data = json.loads(response.text)\n",
    "\n",
    "        video_data = {\n",
    "            'publishedAt' : data['items'][0]['snippet']['publishedAt'],\n",
    "            'title' : data['items'][0]['snippet']['title'],\n",
    "            'views' : data['items'][0]['statistics']['viewCount'],\n",
    "            'likes' : data['items'][0]['statistics']['likeCount'],\n",
    "            'comments' : data['items'][0]['statistics']['commentCount'],\n",
    "\n",
    "        }\n",
    "        videos_stats.append(video_data)\n",
    "\n",
    "\n",
    "    return videos_stats"
   ]
  },
  {
   "cell_type": "code",
   "execution_count": 33,
   "id": "b8a4f289",
   "metadata": {
    "scrolled": false
   },
   "outputs": [],
   "source": [
    "channel_data = channel_stats(api_key,channel_id)"
   ]
  },
  {
   "cell_type": "code",
   "execution_count": 34,
   "id": "bc1c883b",
   "metadata": {
    "scrolled": true
   },
   "outputs": [
    {
     "data": {
      "text/plain": [
       "{'kind': 'youtube#channelListResponse',\n",
       " 'etag': 'nohf55NVWgInmoyacQXr2IQGOh8',\n",
       " 'pageInfo': {'totalResults': 1, 'resultsPerPage': 5},\n",
       " 'items': [{'kind': 'youtube#channel',\n",
       "   'etag': '42jg5aGyKmSRFsDD-IpEECkkfgU',\n",
       "   'id': 'UCsqjHFMB_JYTaEnf_vmTNqg',\n",
       "   'snippet': {'title': 'Doug DeMuro',\n",
       "    'description': '',\n",
       "    'customUrl': 'dougdemuro',\n",
       "    'publishedAt': '2013-09-11T19:26:56Z',\n",
       "    'thumbnails': {'default': {'url': 'https://yt3.ggpht.com/ytc/AMLnZu95bYnhPmv4vYZz9QYf-6c6uspJhxZO2cEIDVhHr2M=s88-c-k-c0x00ffffff-no-rj',\n",
       "      'width': 88,\n",
       "      'height': 88},\n",
       "     'medium': {'url': 'https://yt3.ggpht.com/ytc/AMLnZu95bYnhPmv4vYZz9QYf-6c6uspJhxZO2cEIDVhHr2M=s240-c-k-c0x00ffffff-no-rj',\n",
       "      'width': 240,\n",
       "      'height': 240},\n",
       "     'high': {'url': 'https://yt3.ggpht.com/ytc/AMLnZu95bYnhPmv4vYZz9QYf-6c6uspJhxZO2cEIDVhHr2M=s800-c-k-c0x00ffffff-no-rj',\n",
       "      'width': 800,\n",
       "      'height': 800}},\n",
       "    'localized': {'title': 'Doug DeMuro', 'description': ''}},\n",
       "   'statistics': {'viewCount': '1634723071',\n",
       "    'subscriberCount': '4450000',\n",
       "    'hiddenSubscriberCount': False,\n",
       "    'videoCount': '802'}}]}"
      ]
     },
     "execution_count": 34,
     "metadata": {},
     "output_type": "execute_result"
    }
   ],
   "source": [
    "channel_data"
   ]
  },
  {
   "cell_type": "code",
   "execution_count": 49,
   "id": "1465379d",
   "metadata": {},
   "outputs": [
    {
     "data": {
      "text/plain": [
       "int"
      ]
     },
     "execution_count": 49,
     "metadata": {},
     "output_type": "execute_result"
    }
   ],
   "source": [
    "type(channel_data['pageInfo']['totalResults'])"
   ]
  },
  {
   "cell_type": "markdown",
   "id": "995aa8e2",
   "metadata": {},
   "source": [
    "# Transform"
   ]
  },
  {
   "cell_type": "markdown",
   "id": "8828857a",
   "metadata": {},
   "source": [
    "##### Tranform channel stats"
   ]
  },
  {
   "cell_type": "code",
   "execution_count": 35,
   "id": "e3e520c0",
   "metadata": {
    "scrolled": false
   },
   "outputs": [
    {
     "data": {
      "text/html": [
       "<div>\n",
       "<style scoped>\n",
       "    .dataframe tbody tr th:only-of-type {\n",
       "        vertical-align: middle;\n",
       "    }\n",
       "\n",
       "    .dataframe tbody tr th {\n",
       "        vertical-align: top;\n",
       "    }\n",
       "\n",
       "    .dataframe thead th {\n",
       "        text-align: right;\n",
       "    }\n",
       "</style>\n",
       "<table border=\"1\" class=\"dataframe\">\n",
       "  <thead>\n",
       "    <tr style=\"text-align: right;\">\n",
       "      <th></th>\n",
       "      <th>channel_id</th>\n",
       "      <th>channel_title</th>\n",
       "      <th>publishedAt</th>\n",
       "      <th>subscribers</th>\n",
       "      <th>views</th>\n",
       "      <th>videos</th>\n",
       "    </tr>\n",
       "  </thead>\n",
       "  <tbody>\n",
       "    <tr>\n",
       "      <th>0</th>\n",
       "      <td>UCsqjHFMB_JYTaEnf_vmTNqg</td>\n",
       "      <td>Doug DeMuro</td>\n",
       "      <td>2013-09-11</td>\n",
       "      <td>4450000</td>\n",
       "      <td>1634723071</td>\n",
       "      <td>802</td>\n",
       "    </tr>\n",
       "  </tbody>\n",
       "</table>\n",
       "</div>"
      ],
      "text/plain": [
       "                 channel_id channel_title publishedAt  subscribers  \\\n",
       "0  UCsqjHFMB_JYTaEnf_vmTNqg   Doug DeMuro  2013-09-11      4450000   \n",
       "\n",
       "        views  videos  \n",
       "0  1634723071     802  "
      ]
     },
     "execution_count": 35,
     "metadata": {},
     "output_type": "execute_result"
    }
   ],
   "source": [
    "channel_stats ={\n",
    "        'channel_id': channel_data['items'][0]['id'],\n",
    "        'channel_title' : channel_data['items'][0]['snippet']['title'],\n",
    "        'publishedAt' : channel_data['items'][0]['snippet']['publishedAt'],\n",
    "        'subscribers' : channel_data['items'][0]['statistics']['subscriberCount'],\n",
    "        'views' : channel_data['items'][0]['statistics']['viewCount'],\n",
    "        'videos' : channel_data['items'][0]['statistics']['videoCount']\n",
    "}\n",
    "\n",
    "channel_stats_df = pd.DataFrame([channel_stats])\n",
    "\n",
    "# change datatypes\n",
    "channel_stats_df['views'] = channel_stats_df['views'].astype(int)\n",
    "channel_stats_df['videos'] = channel_stats_df['videos'].astype(int)\n",
    "channel_stats_df['subscribers'] = channel_stats_df['subscribers'].astype(int)\n",
    "channel_stats_df['publishedAt'] = dt.datetime.strptime(channel_stats_df['publishedAt'].str.split('T')[0][0], '%Y-%m-%d').strftime('%Y-%m-%d')\n",
    "channel_stats_df"
   ]
  },
  {
   "cell_type": "markdown",
   "id": "7b4a7b55",
   "metadata": {},
   "source": [
    "##### Transform video stats"
   ]
  },
  {
   "cell_type": "code",
   "execution_count": 36,
   "id": "2ffa238a",
   "metadata": {
    "scrolled": true
   },
   "outputs": [
    {
     "ename": "KeyError",
     "evalue": "'items'",
     "output_type": "error",
     "traceback": [
      "\u001b[0;31m---------------------------------------------------------------------------\u001b[0m",
      "\u001b[0;31mKeyError\u001b[0m                                  Traceback (most recent call last)",
      "Input \u001b[0;32mIn [36]\u001b[0m, in \u001b[0;36m<cell line: 1>\u001b[0;34m()\u001b[0m\n\u001b[0;32m----> 1\u001b[0m video_data \u001b[38;5;241m=\u001b[39m \u001b[43mget_video_stats\u001b[49m\u001b[43m(\u001b[49m\u001b[43mapi_key\u001b[49m\u001b[43m)\u001b[49m\n\u001b[1;32m      2\u001b[0m video_data\n",
      "Input \u001b[0;32mIn [32]\u001b[0m, in \u001b[0;36mget_video_stats\u001b[0;34m(api_key)\u001b[0m\n\u001b[1;32m      1\u001b[0m \u001b[38;5;28;01mdef\u001b[39;00m \u001b[38;5;21mget_video_stats\u001b[39m(api_key):\n\u001b[1;32m      2\u001b[0m     videos_stats \u001b[38;5;241m=\u001b[39m []\n\u001b[0;32m----> 3\u001b[0m     videoIds \u001b[38;5;241m=\u001b[39m \u001b[43mget_channel_videos\u001b[49m\u001b[43m(\u001b[49m\u001b[43mapi_key\u001b[49m\u001b[43m,\u001b[49m\u001b[43m \u001b[49m\u001b[43mchannel_id\u001b[49m\u001b[43m)\u001b[49m\n\u001b[1;32m      5\u001b[0m     \u001b[38;5;28;01mfor\u001b[39;00m videoId \u001b[38;5;129;01min\u001b[39;00m videoIds:\n\u001b[1;32m      6\u001b[0m         video_data\u001b[38;5;241m=\u001b[39m {}\n",
      "Input \u001b[0;32mIn [31]\u001b[0m, in \u001b[0;36mget_channel_videos\u001b[0;34m(api_key, channel_id)\u001b[0m\n\u001b[1;32m     20\u001b[0m     \u001b[38;5;28;01mwhile\u001b[39;00m nextPageToken:\n\u001b[1;32m     21\u001b[0m         next_page_url \u001b[38;5;241m=\u001b[39m \u001b[38;5;124mf\u001b[39m\u001b[38;5;124m\"\u001b[39m\u001b[38;5;132;01m{\u001b[39;00murl\u001b[38;5;132;01m}\u001b[39;00m\u001b[38;5;124m&pageToken=\u001b[39m\u001b[38;5;132;01m{\u001b[39;00mnextPageToken\u001b[38;5;132;01m}\u001b[39;00m\u001b[38;5;124m\"\u001b[39m\n\u001b[0;32m---> 22\u001b[0m         nextPageToken, new_channel_videos \u001b[38;5;241m=\u001b[39m \u001b[43mget_channel_videos_per_page\u001b[49m\u001b[43m(\u001b[49m\u001b[43mnext_page_url\u001b[49m\u001b[43m)\u001b[49m\n\u001b[1;32m     23\u001b[0m         channel_videos\u001b[38;5;241m.\u001b[39mextend(new_channel_videos)\n\u001b[1;32m     24\u001b[0m \u001b[38;5;66;03m#         page_count += 1\u001b[39;00m\n\u001b[1;32m     25\u001b[0m \n\u001b[1;32m     26\u001b[0m     \u001b[38;5;66;03m# print(channel_videos)\u001b[39;00m\n",
      "Input \u001b[0;32mIn [31]\u001b[0m, in \u001b[0;36mget_channel_videos.<locals>.get_channel_videos_per_page\u001b[0;34m(url)\u001b[0m\n\u001b[1;32m      9\u001b[0m data \u001b[38;5;241m=\u001b[39m json\u001b[38;5;241m.\u001b[39mloads(response\u001b[38;5;241m.\u001b[39mtext)\n\u001b[1;32m     10\u001b[0m nextPageToken \u001b[38;5;241m=\u001b[39m data\u001b[38;5;241m.\u001b[39mget(\u001b[38;5;124m'\u001b[39m\u001b[38;5;124mnextPageToken\u001b[39m\u001b[38;5;124m'\u001b[39m)\n\u001b[0;32m---> 11\u001b[0m \u001b[38;5;28;01mfor\u001b[39;00m i \u001b[38;5;129;01min\u001b[39;00m \u001b[38;5;28mrange\u001b[39m(\u001b[38;5;28mlen\u001b[39m(\u001b[43mdata\u001b[49m\u001b[43m[\u001b[49m\u001b[38;5;124;43m'\u001b[39;49m\u001b[38;5;124;43mitems\u001b[39;49m\u001b[38;5;124;43m'\u001b[39;49m\u001b[43m]\u001b[49m)):\n\u001b[1;32m     12\u001b[0m     videoId \u001b[38;5;241m=\u001b[39m data[\u001b[38;5;124m'\u001b[39m\u001b[38;5;124mitems\u001b[39m\u001b[38;5;124m'\u001b[39m][i][\u001b[38;5;124m'\u001b[39m\u001b[38;5;124mid\u001b[39m\u001b[38;5;124m'\u001b[39m][\u001b[38;5;124m'\u001b[39m\u001b[38;5;124mvideoId\u001b[39m\u001b[38;5;124m'\u001b[39m]\n\u001b[1;32m     13\u001b[0m     channel_videos\u001b[38;5;241m.\u001b[39mappend(videoId)\n",
      "\u001b[0;31mKeyError\u001b[0m: 'items'"
     ]
    }
   ],
   "source": [
    "video_data = get_video_stats(api_key)\n",
    "video_data"
   ]
  },
  {
   "cell_type": "code",
   "execution_count": null,
   "id": "8abcf66b",
   "metadata": {},
   "outputs": [],
   "source": [
    "video_stats_df = pd.DataFrame(video_data)\n",
    "\n",
    "#  change datatypes\n",
    "video_stats_df['comments'] = video_stats_df['comments'].astype(int)\n",
    "video_stats_df['likes'] = video_stats_df['likes'].astype(int)\n",
    "video_stats_df['views'] = video_stats_df['views'].astype(int)\n",
    "video_stats_df['publishedAt'] = pd.to_datetime(video_stats_df['publishedAt'])\n",
    "\n",
    "\n",
    "# df.dtypes\n",
    "video_stats_df"
   ]
  },
  {
   "cell_type": "markdown",
   "id": "9f088868",
   "metadata": {},
   "source": [
    "# Load"
   ]
  },
  {
   "cell_type": "code",
   "execution_count": null,
   "id": "ab19dba3",
   "metadata": {
    "scrolled": true
   },
   "outputs": [],
   "source": [
    "def dump_to_csv():\n",
    "    channel_stats_df.to_csv(f\"results/channel_stats/{date.today().strftime('%Y-%m-%d')}.csv\", index = False)\n",
    "    video_stats_df.to_csv(f\"results/video_stats/{date.today().strftime('%Y-%m-%d')}.csv\", index = False)\n",
    "    \n",
    "dump_to_csv()"
   ]
  },
  {
   "cell_type": "code",
   "execution_count": 40,
   "id": "ed522841",
   "metadata": {
    "scrolled": true
   },
   "outputs": [
    {
     "name": "stdout",
     "output_type": "stream",
     "text": [
      "hello\n",
      "hello\n",
      "hello\n",
      "hello\n",
      "hello\n",
      "hello\n",
      "hello\n"
     ]
    }
   ],
   "source": [
    "total = 323\n",
    "total/50\n",
    "x=0\n",
    "\n",
    "while (x<(total/50)):\n",
    "    print('hello')\n",
    "    x += 1"
   ]
  },
  {
   "cell_type": "code",
   "execution_count": 42,
   "id": "21bf7191",
   "metadata": {},
   "outputs": [
    {
     "data": {
      "text/plain": [
       "16.68"
      ]
     },
     "execution_count": 42,
     "metadata": {},
     "output_type": "execute_result"
    }
   ],
   "source": [
    "834/50"
   ]
  }
 ],
 "metadata": {
  "kernelspec": {
   "display_name": "Python 3 (ipykernel)",
   "language": "python",
   "name": "python3"
  },
  "language_info": {
   "codemirror_mode": {
    "name": "ipython",
    "version": 3
   },
   "file_extension": ".py",
   "mimetype": "text/x-python",
   "name": "python",
   "nbconvert_exporter": "python",
   "pygments_lexer": "ipython3",
   "version": "3.9.12"
  },
  "vscode": {
   "interpreter": {
    "hash": "f9f85f796d01129d0dd105a088854619f454435301f6ffec2fea96ecbd9be4ac"
   }
  }
 },
 "nbformat": 4,
 "nbformat_minor": 5
}
