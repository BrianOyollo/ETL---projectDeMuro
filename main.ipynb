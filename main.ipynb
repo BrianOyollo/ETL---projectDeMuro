{
 "cells": [
  {
   "cell_type": "code",
   "execution_count": 2,
   "id": "3ff6272c",
   "metadata": {},
   "outputs": [],
   "source": [
    "import os\n",
    "import requests\n",
    "import json\n",
    "import pandas as pd\n",
    "from sqlalchemy import create_engine\n",
    "import datetime as dt\n",
    "from datetime import date"
   ]
  },
  {
   "cell_type": "code",
   "execution_count": 3,
   "id": "70cf40fc",
   "metadata": {},
   "outputs": [],
   "source": [
    "channel_id = 'UCsqjHFMB_JYTaEnf_vmTNqg'\n",
    "api_key = os.environ['YOUTUBE_API_KEY']\n",
    "\n",
    "# print(api_key)"
   ]
  },
  {
   "cell_type": "markdown",
   "id": "72f8f2c5",
   "metadata": {},
   "source": [
    "# Extract"
   ]
  },
  {
   "cell_type": "markdown",
   "id": "e7706ffc",
   "metadata": {},
   "source": [
    "##### Extract channel stats"
   ]
  },
  {
   "cell_type": "code",
   "execution_count": 4,
   "id": "c5cc55e1",
   "metadata": {},
   "outputs": [],
   "source": [
    "def channel_stats(api_key, channel_id):\n",
    "    channel_stats_url = f\"https://youtube.googleapis.com/youtube/v3/channels?part=snippet%2Cstatistics&id={channel_id}&key={api_key}\"\n",
    "    # print(channel_stats_url)\n",
    "    response = requests.get(channel_stats_url)\n",
    "    channel_data = json.loads(response.text)\n",
    "    # print(channel_data)\n",
    "    return channel_data"
   ]
  },
  {
   "cell_type": "markdown",
   "id": "04d74d1b",
   "metadata": {},
   "source": [
    "##### Extract channel videos"
   ]
  },
  {
   "cell_type": "code",
   "execution_count": 5,
   "id": "9708f396",
   "metadata": {},
   "outputs": [],
   "source": [
    "def get_channel_videos(api_key,channel_id):\n",
    "    page_count = 0\n",
    "    url = f\"https://youtube.googleapis.com/youtube/v3/search?channelId={channel_id}&maxResults=2&order=date&type=video&key={api_key}\"\n",
    "\n",
    "\n",
    "    def get_channel_videos_per_page(url):\n",
    "        channel_videos = []\n",
    "    \n",
    "        response = requests.get(url)\n",
    "        data = json.loads(response.text)\n",
    "        nextPageToken = data.get('nextPageToken')\n",
    "        for i in range(len(data['items'])):\n",
    "            videoId = data['items'][i]['id']['videoId']\n",
    "            channel_videos.append(videoId)\n",
    "\n",
    "        return nextPageToken, channel_videos\n",
    "\n",
    "    nextPageToken, channel_videos = get_channel_videos_per_page(url)\n",
    "\n",
    "    while nextPageToken and page_count < 5:\n",
    "        next_page_url = f\"{url}&pageToken={nextPageToken}\"\n",
    "        nextPageToken, new_channel_videos = get_channel_videos_per_page(next_page_url)\n",
    "        channel_videos.extend(new_channel_videos)\n",
    "        page_count += 1\n",
    "\n",
    "    # print(channel_videos)\n",
    "    return channel_videos\n",
    "\n",
    "# get_channel_videos(api_key, channel_id)\n"
   ]
  },
  {
   "cell_type": "markdown",
   "id": "8d8132b4",
   "metadata": {},
   "source": [
    "##### Extract video stats"
   ]
  },
  {
   "cell_type": "code",
   "execution_count": 6,
   "id": "6d374997",
   "metadata": {
    "scrolled": true
   },
   "outputs": [],
   "source": [
    "\n",
    "def get_video_stats(api_key):\n",
    "    videos_stats = []\n",
    "    videoIds = get_channel_videos(api_key, channel_id)\n",
    "\n",
    "    for videoId in videoIds:\n",
    "        video_data= {}\n",
    "        video_stats_url = f\"https://youtube.googleapis.com/youtube/v3/videos?part=snippet%2Cstatistics&id={videoId}&key={api_key}\"\n",
    "        response = requests.get(video_stats_url)\n",
    "        data = json.loads(response.text)\n",
    "\n",
    "        video_data = {\n",
    "            'publishedAt' : data['items'][0]['snippet']['publishedAt'],\n",
    "            'title' : data['items'][0]['snippet']['title'],\n",
    "            'views' : data['items'][0]['statistics']['viewCount'],\n",
    "            'likes' : data['items'][0]['statistics']['likeCount'],\n",
    "            'comments' : data['items'][0]['statistics']['commentCount'],\n",
    "\n",
    "        }\n",
    "        videos_stats.append(video_data)\n",
    "\n",
    "\n",
    "    return videos_stats"
   ]
  },
  {
   "cell_type": "code",
   "execution_count": 7,
   "id": "b8a4f289",
   "metadata": {
    "scrolled": false
   },
   "outputs": [],
   "source": [
    "channel_data = channel_stats(api_key,channel_id)"
   ]
  },
  {
   "cell_type": "code",
   "execution_count": 8,
   "id": "bc1c883b",
   "metadata": {
    "scrolled": false
   },
   "outputs": [
    {
     "data": {
      "text/plain": [
       "{'kind': 'youtube#channelListResponse',\n",
       " 'etag': 'nohf55NVWgInmoyacQXr2IQGOh8',\n",
       " 'pageInfo': {'totalResults': 1, 'resultsPerPage': 5},\n",
       " 'items': [{'kind': 'youtube#channel',\n",
       "   'etag': '42jg5aGyKmSRFsDD-IpEECkkfgU',\n",
       "   'id': 'UCsqjHFMB_JYTaEnf_vmTNqg',\n",
       "   'snippet': {'title': 'Doug DeMuro',\n",
       "    'description': '',\n",
       "    'customUrl': 'dougdemuro',\n",
       "    'publishedAt': '2013-09-11T19:26:56Z',\n",
       "    'thumbnails': {'default': {'url': 'https://yt3.ggpht.com/ytc/AMLnZu95bYnhPmv4vYZz9QYf-6c6uspJhxZO2cEIDVhHr2M=s88-c-k-c0x00ffffff-no-rj',\n",
       "      'width': 88,\n",
       "      'height': 88},\n",
       "     'medium': {'url': 'https://yt3.ggpht.com/ytc/AMLnZu95bYnhPmv4vYZz9QYf-6c6uspJhxZO2cEIDVhHr2M=s240-c-k-c0x00ffffff-no-rj',\n",
       "      'width': 240,\n",
       "      'height': 240},\n",
       "     'high': {'url': 'https://yt3.ggpht.com/ytc/AMLnZu95bYnhPmv4vYZz9QYf-6c6uspJhxZO2cEIDVhHr2M=s800-c-k-c0x00ffffff-no-rj',\n",
       "      'width': 800,\n",
       "      'height': 800}},\n",
       "    'localized': {'title': 'Doug DeMuro', 'description': ''}},\n",
       "   'statistics': {'viewCount': '1634723071',\n",
       "    'subscriberCount': '4450000',\n",
       "    'hiddenSubscriberCount': False,\n",
       "    'videoCount': '802'}}]}"
      ]
     },
     "execution_count": 8,
     "metadata": {},
     "output_type": "execute_result"
    }
   ],
   "source": [
    "channel_data"
   ]
  },
  {
   "cell_type": "markdown",
   "id": "995aa8e2",
   "metadata": {},
   "source": [
    "# Transform"
   ]
  },
  {
   "cell_type": "markdown",
   "id": "bc5aa4d3",
   "metadata": {},
   "source": [
    "##### Tranform channel stats"
   ]
  },
  {
   "cell_type": "code",
   "execution_count": 9,
   "id": "e3e520c0",
   "metadata": {
    "scrolled": false
   },
   "outputs": [
    {
     "data": {
      "text/html": [
       "<div>\n",
       "<style scoped>\n",
       "    .dataframe tbody tr th:only-of-type {\n",
       "        vertical-align: middle;\n",
       "    }\n",
       "\n",
       "    .dataframe tbody tr th {\n",
       "        vertical-align: top;\n",
       "    }\n",
       "\n",
       "    .dataframe thead th {\n",
       "        text-align: right;\n",
       "    }\n",
       "</style>\n",
       "<table border=\"1\" class=\"dataframe\">\n",
       "  <thead>\n",
       "    <tr style=\"text-align: right;\">\n",
       "      <th></th>\n",
       "      <th>channel_id</th>\n",
       "      <th>channel_title</th>\n",
       "      <th>publishedAt</th>\n",
       "      <th>subscribers</th>\n",
       "      <th>views</th>\n",
       "      <th>videos</th>\n",
       "    </tr>\n",
       "  </thead>\n",
       "  <tbody>\n",
       "    <tr>\n",
       "      <th>0</th>\n",
       "      <td>UCsqjHFMB_JYTaEnf_vmTNqg</td>\n",
       "      <td>Doug DeMuro</td>\n",
       "      <td>2013-09-11</td>\n",
       "      <td>4450000</td>\n",
       "      <td>1634723071</td>\n",
       "      <td>802</td>\n",
       "    </tr>\n",
       "  </tbody>\n",
       "</table>\n",
       "</div>"
      ],
      "text/plain": [
       "                 channel_id channel_title publishedAt  subscribers  \\\n",
       "0  UCsqjHFMB_JYTaEnf_vmTNqg   Doug DeMuro  2013-09-11      4450000   \n",
       "\n",
       "        views  videos  \n",
       "0  1634723071     802  "
      ]
     },
     "execution_count": 9,
     "metadata": {},
     "output_type": "execute_result"
    }
   ],
   "source": [
    "channel_stats ={\n",
    "        'channel_id': channel_data['items'][0]['id'],\n",
    "        'channel_title' : channel_data['items'][0]['snippet']['title'],\n",
    "        'publishedAt' : channel_data['items'][0]['snippet']['publishedAt'],\n",
    "        'subscribers' : channel_data['items'][0]['statistics']['subscriberCount'],\n",
    "        'views' : channel_data['items'][0]['statistics']['viewCount'],\n",
    "        'videos' : channel_data['items'][0]['statistics']['videoCount']\n",
    "}\n",
    "\n",
    "channel_stats_df = pd.DataFrame([channel_stats])\n",
    "\n",
    "# change datatypes\n",
    "channel_stats_df['views'] = channel_stats_df['views'].astype(int)\n",
    "channel_stats_df['videos'] = channel_stats_df['videos'].astype(int)\n",
    "channel_stats_df['subscribers'] = channel_stats_df['subscribers'].astype(int)\n",
    "channel_stats_df['publishedAt'] = dt.datetime.strptime(channel_stats_df['publishedAt'].str.split('T')[0][0], '%Y-%m-%d').strftime('%Y-%m-%d')\n",
    "channel_stats_df"
   ]
  },
  {
   "cell_type": "markdown",
   "id": "0fa8d8ac",
   "metadata": {},
   "source": [
    "##### Transform video stats"
   ]
  },
  {
   "cell_type": "code",
   "execution_count": 10,
   "id": "2ffa238a",
   "metadata": {
    "scrolled": true
   },
   "outputs": [
    {
     "data": {
      "text/plain": [
       "[{'publishedAt': '2022-08-04T15:56:18Z',\n",
       "  'title': 'The 2022 Jeep Grand Cherokee 4xe Is Jeep Going Electric',\n",
       "  'views': '185563',\n",
       "  'likes': '6374',\n",
       "  'comments': '1092'},\n",
       " {'publishedAt': '2022-08-02T15:57:01Z',\n",
       "  'title': 'The McLaren 765LT Spider Is a $500,000 Top-Down Track Monster',\n",
       "  'views': '396518',\n",
       "  'likes': '14108',\n",
       "  'comments': '2016'},\n",
       " {'publishedAt': '2022-07-31T15:56:22Z',\n",
       "  'title': 'The Dodge Ramcharger Is How SUVs Used to Be',\n",
       "  'views': '522777',\n",
       "  'likes': '19902',\n",
       "  'comments': '3624'},\n",
       " {'publishedAt': '2022-07-28T15:56:19Z',\n",
       "  'title': 'The Autech Zagato Stelvio AZ1 Is an Absolutely Bizarre 1980s Creation',\n",
       "  'views': '565249',\n",
       "  'likes': '19343',\n",
       "  'comments': '2658'},\n",
       " {'publishedAt': '2022-07-26T15:56:36Z',\n",
       "  'title': 'The 2022 Land Rover Defender 90 V8 Is Completely Insane',\n",
       "  'views': '736821',\n",
       "  'likes': '20835',\n",
       "  'comments': '2887'},\n",
       " {'publishedAt': '2022-07-24T16:12:32Z',\n",
       "  'title': 'The 2004 Honda Civic Si Is a Quirky, Forgotten Hot Hatchback',\n",
       "  'views': '446623',\n",
       "  'likes': '15055',\n",
       "  'comments': '2796'},\n",
       " {'publishedAt': '2022-07-21T15:54:13Z',\n",
       "  'title': 'The Jaguar XJR-15 Is the Unknown $2 Million Supercar',\n",
       "  'views': '584485',\n",
       "  'likes': '22005',\n",
       "  'comments': '3397'},\n",
       " {'publishedAt': '2022-07-19T15:56:35Z',\n",
       "  'title': 'The 2022 Audi R8 Is the End of the Line for the V10',\n",
       "  'views': '692822',\n",
       "  'likes': '21424',\n",
       "  'comments': '3000'},\n",
       " {'publishedAt': '2022-07-17T15:56:45Z',\n",
       "  'title': 'The BMW Alpina B3 Touring Is an Ultra-Cool Obscure ‘90s Wagon',\n",
       "  'views': '352099',\n",
       "  'likes': '12849',\n",
       "  'comments': '1789'},\n",
       " {'publishedAt': '2022-07-14T15:56:08Z',\n",
       "  'title': 'The Aston Martin Cygnet Is the Most Ridiculous Exotic Car Ever',\n",
       "  'views': '1310251',\n",
       "  'likes': '36840',\n",
       "  'comments': '6118'},\n",
       " {'publishedAt': '2022-07-10T15:55:19Z',\n",
       "  'title': 'Here Are Cars Under $50,000 That Are Going Up in Value',\n",
       "  'views': '249675',\n",
       "  'likes': '9240',\n",
       "  'comments': '1379'},\n",
       " {'publishedAt': '2022-07-07T15:55:13Z',\n",
       "  'title': 'The Bugatti Chiron Super Sport Is Luxury Hypercar Insanity',\n",
       "  'views': '847882',\n",
       "  'likes': '28455',\n",
       "  'comments': '3217'}]"
      ]
     },
     "execution_count": 10,
     "metadata": {},
     "output_type": "execute_result"
    }
   ],
   "source": [
    "video_data = get_video_stats(api_key)\n",
    "video_data"
   ]
  },
  {
   "cell_type": "code",
   "execution_count": 16,
   "id": "8abcf66b",
   "metadata": {},
   "outputs": [
    {
     "data": {
      "text/html": [
       "<div>\n",
       "<style scoped>\n",
       "    .dataframe tbody tr th:only-of-type {\n",
       "        vertical-align: middle;\n",
       "    }\n",
       "\n",
       "    .dataframe tbody tr th {\n",
       "        vertical-align: top;\n",
       "    }\n",
       "\n",
       "    .dataframe thead th {\n",
       "        text-align: right;\n",
       "    }\n",
       "</style>\n",
       "<table border=\"1\" class=\"dataframe\">\n",
       "  <thead>\n",
       "    <tr style=\"text-align: right;\">\n",
       "      <th></th>\n",
       "      <th>publishedAt</th>\n",
       "      <th>title</th>\n",
       "      <th>views</th>\n",
       "      <th>likes</th>\n",
       "      <th>comments</th>\n",
       "    </tr>\n",
       "  </thead>\n",
       "  <tbody>\n",
       "    <tr>\n",
       "      <th>0</th>\n",
       "      <td>2022-08-04 15:56:18+00:00</td>\n",
       "      <td>The 2022 Jeep Grand Cherokee 4xe Is Jeep Going...</td>\n",
       "      <td>185563</td>\n",
       "      <td>6374</td>\n",
       "      <td>1092</td>\n",
       "    </tr>\n",
       "    <tr>\n",
       "      <th>1</th>\n",
       "      <td>2022-08-02 15:57:01+00:00</td>\n",
       "      <td>The McLaren 765LT Spider Is a $500,000 Top-Dow...</td>\n",
       "      <td>396518</td>\n",
       "      <td>14108</td>\n",
       "      <td>2016</td>\n",
       "    </tr>\n",
       "    <tr>\n",
       "      <th>2</th>\n",
       "      <td>2022-07-31 15:56:22+00:00</td>\n",
       "      <td>The Dodge Ramcharger Is How SUVs Used to Be</td>\n",
       "      <td>522777</td>\n",
       "      <td>19902</td>\n",
       "      <td>3624</td>\n",
       "    </tr>\n",
       "    <tr>\n",
       "      <th>3</th>\n",
       "      <td>2022-07-28 15:56:19+00:00</td>\n",
       "      <td>The Autech Zagato Stelvio AZ1 Is an Absolutely...</td>\n",
       "      <td>565249</td>\n",
       "      <td>19343</td>\n",
       "      <td>2658</td>\n",
       "    </tr>\n",
       "    <tr>\n",
       "      <th>4</th>\n",
       "      <td>2022-07-26 15:56:36+00:00</td>\n",
       "      <td>The 2022 Land Rover Defender 90 V8 Is Complete...</td>\n",
       "      <td>736821</td>\n",
       "      <td>20835</td>\n",
       "      <td>2887</td>\n",
       "    </tr>\n",
       "    <tr>\n",
       "      <th>5</th>\n",
       "      <td>2022-07-24 16:12:32+00:00</td>\n",
       "      <td>The 2004 Honda Civic Si Is a Quirky, Forgotten...</td>\n",
       "      <td>446623</td>\n",
       "      <td>15055</td>\n",
       "      <td>2796</td>\n",
       "    </tr>\n",
       "    <tr>\n",
       "      <th>6</th>\n",
       "      <td>2022-07-21 15:54:13+00:00</td>\n",
       "      <td>The Jaguar XJR-15 Is the Unknown $2 Million Su...</td>\n",
       "      <td>584485</td>\n",
       "      <td>22005</td>\n",
       "      <td>3397</td>\n",
       "    </tr>\n",
       "    <tr>\n",
       "      <th>7</th>\n",
       "      <td>2022-07-19 15:56:35+00:00</td>\n",
       "      <td>The 2022 Audi R8 Is the End of the Line for th...</td>\n",
       "      <td>692822</td>\n",
       "      <td>21424</td>\n",
       "      <td>3000</td>\n",
       "    </tr>\n",
       "    <tr>\n",
       "      <th>8</th>\n",
       "      <td>2022-07-17 15:56:45+00:00</td>\n",
       "      <td>The BMW Alpina B3 Touring Is an Ultra-Cool Obs...</td>\n",
       "      <td>352099</td>\n",
       "      <td>12849</td>\n",
       "      <td>1789</td>\n",
       "    </tr>\n",
       "    <tr>\n",
       "      <th>9</th>\n",
       "      <td>2022-07-14 15:56:08+00:00</td>\n",
       "      <td>The Aston Martin Cygnet Is the Most Ridiculous...</td>\n",
       "      <td>1310251</td>\n",
       "      <td>36840</td>\n",
       "      <td>6118</td>\n",
       "    </tr>\n",
       "    <tr>\n",
       "      <th>10</th>\n",
       "      <td>2022-07-10 15:55:19+00:00</td>\n",
       "      <td>Here Are Cars Under $50,000 That Are Going Up ...</td>\n",
       "      <td>249675</td>\n",
       "      <td>9240</td>\n",
       "      <td>1379</td>\n",
       "    </tr>\n",
       "    <tr>\n",
       "      <th>11</th>\n",
       "      <td>2022-07-07 15:55:13+00:00</td>\n",
       "      <td>The Bugatti Chiron Super Sport Is Luxury Hyper...</td>\n",
       "      <td>847882</td>\n",
       "      <td>28455</td>\n",
       "      <td>3217</td>\n",
       "    </tr>\n",
       "  </tbody>\n",
       "</table>\n",
       "</div>"
      ],
      "text/plain": [
       "                 publishedAt  \\\n",
       "0  2022-08-04 15:56:18+00:00   \n",
       "1  2022-08-02 15:57:01+00:00   \n",
       "2  2022-07-31 15:56:22+00:00   \n",
       "3  2022-07-28 15:56:19+00:00   \n",
       "4  2022-07-26 15:56:36+00:00   \n",
       "5  2022-07-24 16:12:32+00:00   \n",
       "6  2022-07-21 15:54:13+00:00   \n",
       "7  2022-07-19 15:56:35+00:00   \n",
       "8  2022-07-17 15:56:45+00:00   \n",
       "9  2022-07-14 15:56:08+00:00   \n",
       "10 2022-07-10 15:55:19+00:00   \n",
       "11 2022-07-07 15:55:13+00:00   \n",
       "\n",
       "                                                title    views  likes  \\\n",
       "0   The 2022 Jeep Grand Cherokee 4xe Is Jeep Going...   185563   6374   \n",
       "1   The McLaren 765LT Spider Is a $500,000 Top-Dow...   396518  14108   \n",
       "2         The Dodge Ramcharger Is How SUVs Used to Be   522777  19902   \n",
       "3   The Autech Zagato Stelvio AZ1 Is an Absolutely...   565249  19343   \n",
       "4   The 2022 Land Rover Defender 90 V8 Is Complete...   736821  20835   \n",
       "5   The 2004 Honda Civic Si Is a Quirky, Forgotten...   446623  15055   \n",
       "6   The Jaguar XJR-15 Is the Unknown $2 Million Su...   584485  22005   \n",
       "7   The 2022 Audi R8 Is the End of the Line for th...   692822  21424   \n",
       "8   The BMW Alpina B3 Touring Is an Ultra-Cool Obs...   352099  12849   \n",
       "9   The Aston Martin Cygnet Is the Most Ridiculous...  1310251  36840   \n",
       "10  Here Are Cars Under $50,000 That Are Going Up ...   249675   9240   \n",
       "11  The Bugatti Chiron Super Sport Is Luxury Hyper...   847882  28455   \n",
       "\n",
       "    comments  \n",
       "0       1092  \n",
       "1       2016  \n",
       "2       3624  \n",
       "3       2658  \n",
       "4       2887  \n",
       "5       2796  \n",
       "6       3397  \n",
       "7       3000  \n",
       "8       1789  \n",
       "9       6118  \n",
       "10      1379  \n",
       "11      3217  "
      ]
     },
     "execution_count": 16,
     "metadata": {},
     "output_type": "execute_result"
    }
   ],
   "source": [
    "video_stats_df = pd.DataFrame(video_data)\n",
    "\n",
    "#  change datatypes\n",
    "video_stats_df['comments'] = video_stats_df['comments'].astype(int)\n",
    "video_stats_df['likes'] = video_stats_df['likes'].astype(int)\n",
    "video_stats_df['views'] = video_stats_df['views'].astype(int)\n",
    "video_stats_df['publishedAt'] = pd.to_datetime(video_stats_df['publishedAt'])\n",
    "\n",
    "\n",
    "\n",
    "\n",
    "# df.dtypes\n",
    "video_stats_df"
   ]
  },
  {
   "cell_type": "markdown",
   "id": "9f088868",
   "metadata": {},
   "source": [
    "# Load"
   ]
  },
  {
   "cell_type": "code",
   "execution_count": 18,
   "id": "ab19dba3",
   "metadata": {
    "scrolled": true
   },
   "outputs": [],
   "source": [
    "def dump():\n",
    "    channel_stats_df.to_csv(f\"results/channel_stats/{date.today().strftime('%Y-%m-%d')}.csv\", index = False)\n",
    "    video_stats_df.to_csv(f\"results/video_stats/{date.today().strftime('%Y-%m-%d')}.csv\", index = False)\n",
    "\n",
    "    \n",
    "dump()"
   ]
  }
 ],
 "metadata": {
  "kernelspec": {
   "display_name": "Python 3 (ipykernel)",
   "language": "python",
   "name": "python3"
  },
  "language_info": {
   "codemirror_mode": {
    "name": "ipython",
    "version": 3
   },
   "file_extension": ".py",
   "mimetype": "text/x-python",
   "name": "python",
   "nbconvert_exporter": "python",
   "pygments_lexer": "ipython3",
   "version": "3.9.12"
  },
  "vscode": {
   "interpreter": {
    "hash": "f9f85f796d01129d0dd105a088854619f454435301f6ffec2fea96ecbd9be4ac"
   }
  }
 },
 "nbformat": 4,
 "nbformat_minor": 5
}
