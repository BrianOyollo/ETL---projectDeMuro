{
 "cells": [
  {
   "cell_type": "code",
   "execution_count": 143,
   "id": "3ff6272c",
   "metadata": {},
   "outputs": [],
   "source": [
    "import os\n",
    "import requests\n",
    "import json\n",
    "import pandas as pd\n",
    "from sqlalchemy import create_engine\n",
    "import datetime as dt"
   ]
  },
  {
   "cell_type": "code",
   "execution_count": 144,
   "id": "70cf40fc",
   "metadata": {},
   "outputs": [],
   "source": [
    "channel_id = 'UCsqjHFMB_JYTaEnf_vmTNqg'\n",
    "api_key = os.environ['YOUTUBE_API_KEY']\n",
    "\n",
    "# print(api_key)"
   ]
  },
  {
   "cell_type": "markdown",
   "id": "72f8f2c5",
   "metadata": {},
   "source": [
    "## Extraction"
   ]
  },
  {
   "cell_type": "code",
   "execution_count": 145,
   "id": "c5cc55e1",
   "metadata": {},
   "outputs": [],
   "source": [
    "def channel_stats(api_key, channel_id):\n",
    "    channel_stats_url = f\"https://youtube.googleapis.com/youtube/v3/channels?part=snippet%2Cstatistics&id={channel_id}&key={api_key}\"\n",
    "    # print(channel_stats_url)\n",
    "    response = requests.get(channel_stats_url)\n",
    "    channel_data = json.loads(response.text)\n",
    "    # print(channel_data)\n",
    "    return channel_data"
   ]
  },
  {
   "cell_type": "code",
   "execution_count": 146,
   "id": "9708f396",
   "metadata": {},
   "outputs": [],
   "source": [
    "def get_channel_videos(api_key,channel_id):\n",
    "    page_count = 0\n",
    "    url = f\"https://youtube.googleapis.com/youtube/v3/search?channelId={channel_id}&maxResults=2&order=date&type=video&key={api_key}\"\n",
    "\n",
    "\n",
    "    def get_channel_videos_per_page(url):\n",
    "        channel_videos = []\n",
    "    \n",
    "        response = requests.get(url)\n",
    "        data = json.loads(response.text)\n",
    "        nextPageToken = data.get('nextPageToken')\n",
    "        for i in range(len(data['items'])):\n",
    "            videoId = data['items'][i]['id']['videoId']\n",
    "            channel_videos.append(videoId)\n",
    "\n",
    "        return nextPageToken, channel_videos\n",
    "\n",
    "    nextPageToken, channel_videos = get_channel_videos_per_page(url)\n",
    "\n",
    "    while nextPageToken and page_count < 5:\n",
    "        next_page_url = f\"{url}&pageToken={nextPageToken}\"\n",
    "        nextPageToken, new_channel_videos = get_channel_videos_per_page(next_page_url)\n",
    "        channel_videos.extend(new_channel_videos)\n",
    "        page_count += 1\n",
    "\n",
    "    # print(channel_videos)\n",
    "    return channel_videos\n",
    "\n",
    "# get_channel_videos(api_key, channel_id)\n"
   ]
  },
  {
   "cell_type": "code",
   "execution_count": 147,
   "id": "6d374997",
   "metadata": {
    "scrolled": true
   },
   "outputs": [],
   "source": [
    "\n",
    "def get_video_stats(api_key):\n",
    "    videos_stats = []\n",
    "    videoIds = get_channel_videos(api_key, channel_id)\n",
    "\n",
    "    for videoId in videoIds:\n",
    "        video_data= {}\n",
    "        video_stats_url = f\"https://youtube.googleapis.com/youtube/v3/videos?part=snippet%2Cstatistics&id={videoId}&key={api_key}\"\n",
    "        response = requests.get(video_stats_url)\n",
    "        data = json.loads(response.text)\n",
    "\n",
    "        video_data = {\n",
    "            'publishedAt' : data['items'][0]['snippet']['publishedAt'],\n",
    "            'title' : data['items'][0]['snippet']['title'],\n",
    "            'views' : data['items'][0]['statistics']['viewCount'],\n",
    "            'likes' : data['items'][0]['statistics']['likeCount'],\n",
    "            'comments' : data['items'][0]['statistics']['commentCount'],\n",
    "\n",
    "        }\n",
    "        videos_stats.append(video_data)\n",
    "\n",
    "\n",
    "\n",
    "        # print(videoId)\n",
    "    print(videos_stats)\n",
    "\n",
    "\n",
    "# get_video_stats(api_key)\n",
    "\n"
   ]
  },
  {
   "cell_type": "code",
   "execution_count": 148,
   "id": "b8a4f289",
   "metadata": {},
   "outputs": [
    {
     "ename": "KeyError",
     "evalue": "'items'",
     "output_type": "error",
     "traceback": [
      "\u001b[0;31m---------------------------------------------------------------------------\u001b[0m",
      "\u001b[0;31mKeyError\u001b[0m                                  Traceback (most recent call last)",
      "Input \u001b[0;32mIn [148]\u001b[0m, in \u001b[0;36m<cell line: 2>\u001b[0;34m()\u001b[0m\n\u001b[1;32m      1\u001b[0m channel_data \u001b[38;5;241m=\u001b[39m channel_stats(api_key,channel_id)\n\u001b[0;32m----> 2\u001b[0m video_data \u001b[38;5;241m=\u001b[39m \u001b[43mget_video_stats\u001b[49m\u001b[43m(\u001b[49m\u001b[43mapi_key\u001b[49m\u001b[43m)\u001b[49m\n",
      "Input \u001b[0;32mIn [147]\u001b[0m, in \u001b[0;36mget_video_stats\u001b[0;34m(api_key)\u001b[0m\n\u001b[1;32m      1\u001b[0m \u001b[38;5;28;01mdef\u001b[39;00m \u001b[38;5;21mget_video_stats\u001b[39m(api_key):\n\u001b[1;32m      2\u001b[0m     videos_stats \u001b[38;5;241m=\u001b[39m []\n\u001b[0;32m----> 3\u001b[0m     videoIds \u001b[38;5;241m=\u001b[39m \u001b[43mget_channel_videos\u001b[49m\u001b[43m(\u001b[49m\u001b[43mapi_key\u001b[49m\u001b[43m,\u001b[49m\u001b[43m \u001b[49m\u001b[43mchannel_id\u001b[49m\u001b[43m)\u001b[49m\n\u001b[1;32m      5\u001b[0m     \u001b[38;5;28;01mfor\u001b[39;00m videoId \u001b[38;5;129;01min\u001b[39;00m videoIds:\n\u001b[1;32m      6\u001b[0m         video_data\u001b[38;5;241m=\u001b[39m {}\n",
      "Input \u001b[0;32mIn [146]\u001b[0m, in \u001b[0;36mget_channel_videos\u001b[0;34m(api_key, channel_id)\u001b[0m\n\u001b[1;32m     20\u001b[0m \u001b[38;5;28;01mwhile\u001b[39;00m nextPageToken \u001b[38;5;129;01mand\u001b[39;00m page_count \u001b[38;5;241m<\u001b[39m \u001b[38;5;241m5\u001b[39m:\n\u001b[1;32m     21\u001b[0m     next_page_url \u001b[38;5;241m=\u001b[39m \u001b[38;5;124mf\u001b[39m\u001b[38;5;124m\"\u001b[39m\u001b[38;5;132;01m{\u001b[39;00murl\u001b[38;5;132;01m}\u001b[39;00m\u001b[38;5;124m&pageToken=\u001b[39m\u001b[38;5;132;01m{\u001b[39;00mnextPageToken\u001b[38;5;132;01m}\u001b[39;00m\u001b[38;5;124m\"\u001b[39m\n\u001b[0;32m---> 22\u001b[0m     nextPageToken, new_channel_videos \u001b[38;5;241m=\u001b[39m \u001b[43mget_channel_videos_per_page\u001b[49m\u001b[43m(\u001b[49m\u001b[43mnext_page_url\u001b[49m\u001b[43m)\u001b[49m\n\u001b[1;32m     23\u001b[0m     channel_videos\u001b[38;5;241m.\u001b[39mextend(new_channel_videos)\n\u001b[1;32m     24\u001b[0m     page_count \u001b[38;5;241m+\u001b[39m\u001b[38;5;241m=\u001b[39m \u001b[38;5;241m1\u001b[39m\n",
      "Input \u001b[0;32mIn [146]\u001b[0m, in \u001b[0;36mget_channel_videos.<locals>.get_channel_videos_per_page\u001b[0;34m(url)\u001b[0m\n\u001b[1;32m     10\u001b[0m data \u001b[38;5;241m=\u001b[39m json\u001b[38;5;241m.\u001b[39mloads(response\u001b[38;5;241m.\u001b[39mtext)\n\u001b[1;32m     11\u001b[0m nextPageToken \u001b[38;5;241m=\u001b[39m data\u001b[38;5;241m.\u001b[39mget(\u001b[38;5;124m'\u001b[39m\u001b[38;5;124mnextPageToken\u001b[39m\u001b[38;5;124m'\u001b[39m)\n\u001b[0;32m---> 12\u001b[0m \u001b[38;5;28;01mfor\u001b[39;00m i \u001b[38;5;129;01min\u001b[39;00m \u001b[38;5;28mrange\u001b[39m(\u001b[38;5;28mlen\u001b[39m(\u001b[43mdata\u001b[49m\u001b[43m[\u001b[49m\u001b[38;5;124;43m'\u001b[39;49m\u001b[38;5;124;43mitems\u001b[39;49m\u001b[38;5;124;43m'\u001b[39;49m\u001b[43m]\u001b[49m)):\n\u001b[1;32m     13\u001b[0m     videoId \u001b[38;5;241m=\u001b[39m data[\u001b[38;5;124m'\u001b[39m\u001b[38;5;124mitems\u001b[39m\u001b[38;5;124m'\u001b[39m][i][\u001b[38;5;124m'\u001b[39m\u001b[38;5;124mid\u001b[39m\u001b[38;5;124m'\u001b[39m][\u001b[38;5;124m'\u001b[39m\u001b[38;5;124mvideoId\u001b[39m\u001b[38;5;124m'\u001b[39m]\n\u001b[1;32m     14\u001b[0m     channel_videos\u001b[38;5;241m.\u001b[39mappend(videoId)\n",
      "\u001b[0;31mKeyError\u001b[0m: 'items'"
     ]
    }
   ],
   "source": [
    "channel_data = channel_stats(api_key,channel_id)\n",
    "video_data = get_video_stats(api_key)"
   ]
  },
  {
   "cell_type": "code",
   "execution_count": null,
   "id": "bc1c883b",
   "metadata": {
    "scrolled": false
   },
   "outputs": [],
   "source": [
    "channel_data"
   ]
  },
  {
   "cell_type": "markdown",
   "id": "995aa8e2",
   "metadata": {},
   "source": [
    "## Transform"
   ]
  },
  {
   "cell_type": "code",
   "execution_count": 149,
   "id": "e3e520c0",
   "metadata": {
    "scrolled": true
   },
   "outputs": [
    {
     "data": {
      "text/html": [
       "<div>\n",
       "<style scoped>\n",
       "    .dataframe tbody tr th:only-of-type {\n",
       "        vertical-align: middle;\n",
       "    }\n",
       "\n",
       "    .dataframe tbody tr th {\n",
       "        vertical-align: top;\n",
       "    }\n",
       "\n",
       "    .dataframe thead th {\n",
       "        text-align: right;\n",
       "    }\n",
       "</style>\n",
       "<table border=\"1\" class=\"dataframe\">\n",
       "  <thead>\n",
       "    <tr style=\"text-align: right;\">\n",
       "      <th></th>\n",
       "      <th>channel_id</th>\n",
       "      <th>channel_title</th>\n",
       "      <th>publishedAt</th>\n",
       "      <th>subscribers</th>\n",
       "      <th>views</th>\n",
       "      <th>videos</th>\n",
       "    </tr>\n",
       "  </thead>\n",
       "  <tbody>\n",
       "    <tr>\n",
       "      <th>0</th>\n",
       "      <td>UCsqjHFMB_JYTaEnf_vmTNqg</td>\n",
       "      <td>Doug DeMuro</td>\n",
       "      <td>2013-09-11</td>\n",
       "      <td>4440000</td>\n",
       "      <td>1632917605</td>\n",
       "      <td>801</td>\n",
       "    </tr>\n",
       "  </tbody>\n",
       "</table>\n",
       "</div>"
      ],
      "text/plain": [
       "                 channel_id channel_title publishedAt  subscribers  \\\n",
       "0  UCsqjHFMB_JYTaEnf_vmTNqg   Doug DeMuro  2013-09-11      4440000   \n",
       "\n",
       "        views  videos  \n",
       "0  1632917605     801  "
      ]
     },
     "execution_count": 149,
     "metadata": {},
     "output_type": "execute_result"
    }
   ],
   "source": [
    "channel_stats ={\n",
    "        'channel_id': channel_data['items'][0]['id'],\n",
    "        'channel_title' : channel_data['items'][0]['snippet']['title'],\n",
    "        'publishedAt' : channel_data['items'][0]['snippet']['publishedAt'],\n",
    "        'subscribers' : channel_data['items'][0]['statistics']['subscriberCount'],\n",
    "        'views' : channel_data['items'][0]['statistics']['viewCount'],\n",
    "        'videos' : channel_data['items'][0]['statistics']['videoCount']\n",
    "}\n",
    "\n",
    "df = pd.DataFrame([channel_stats])\n",
    "\n",
    "# change datatypes\n",
    "df['views'] = df['views'].astype(int)\n",
    "df['videos'] = df['videos'].astype(int)\n",
    "df['subscribers'] = df['subscribers'].astype(int)\n",
    "df['publishedAt'] = dt.datetime.strptime(df['publishedAt'].str.split('T')[0][0], '%Y-%m-%d').strftime('%Y-%m-%d')\n",
    "df"
   ]
  },
  {
   "cell_type": "markdown",
   "id": "9f088868",
   "metadata": {},
   "source": [
    "## Load"
   ]
  },
  {
   "cell_type": "code",
   "execution_count": 161,
   "id": "ab19dba3",
   "metadata": {},
   "outputs": [
    {
     "data": {
      "text/plain": [
       "0    Doug DeMuro\n",
       "Name: channel_title, dtype: object"
      ]
     },
     "execution_count": 161,
     "metadata": {},
     "output_type": "execute_result"
    }
   ],
   "source": [
    "df.to_csv(f\"{channel_stats['channel_title']}.csv\", index = False)\n",
    "df['channel_title']"
   ]
  }
 ],
 "metadata": {
  "kernelspec": {
   "display_name": "Python 3 (ipykernel)",
   "language": "python",
   "name": "python3"
  },
  "language_info": {
   "codemirror_mode": {
    "name": "ipython",
    "version": 3
   },
   "file_extension": ".py",
   "mimetype": "text/x-python",
   "name": "python",
   "nbconvert_exporter": "python",
   "pygments_lexer": "ipython3",
   "version": "3.9.12"
  },
  "vscode": {
   "interpreter": {
    "hash": "f9f85f796d01129d0dd105a088854619f454435301f6ffec2fea96ecbd9be4ac"
   }
  }
 },
 "nbformat": 4,
 "nbformat_minor": 5
}
